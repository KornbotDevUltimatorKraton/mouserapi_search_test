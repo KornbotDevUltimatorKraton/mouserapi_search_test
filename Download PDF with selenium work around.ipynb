{
 "cells": [
  {
   "cell_type": "code",
   "execution_count": null,
   "id": "1358e972",
   "metadata": {},
   "outputs": [],
   "source": [
    "import datetime as dt\n",
    "import shutil\n",
    "\n",
    "import time\n",
    "\n",
    "from selenium import webdriver\n",
    "from mechanize import Browser\n",
    "from selenium import *\n",
    "from selenium.webdriver.chrome.options import Options\n"
   ]
  },
  {
   "cell_type": "code",
   "execution_count": null,
   "id": "30ec03ff",
   "metadata": {},
   "outputs": [],
   "source": [
    "options = Options()\n",
    "# location ให้ save pdf (ต้องแก้ถ้าใช้ linux)\n",
    "downloadedloc=r\"F:\\chromedriver_win32\"\n",
    "\n",
    "# ++++ download https://chromedriver.chromium.org/downloads ก่อน และเลือกให้ตรง version\n",
    "driverloc=r\"F:\\chromedriver_win32\\chromedriver.exe\"\n",
    "\n",
    "# pdf location\n",
    "pdf_url = f\".pdf location\""
   ]
  },
  {
   "cell_type": "code",
   "execution_count": null,
   "id": "69e2942e",
   "metadata": {},
   "outputs": [],
   "source": [
    "options.add_argument('--headless')\n",
    "options.add_argument('--no-sandbox')\n",
    "options.add_argument('--disable-gpu')\n",
    "options.add_argument('--window-size=1920x1080')\n",
    "options.add_argument('--incognito')\n",
    "options.add_argument(\"--disable-dev-shm-usage\") #overcome limited resource problems\n",
    "options.add_experimental_option(\"prefs\", {\n",
    "\"plugins.plugins_list\": [{\"enabled\": False, \n",
    "\"name\": \"Chrome PDF Viewer\"}],\n",
    "\"download.default_directory\" : downloadedloc,\n",
    "\"download.prompt_for_download\": False,\n",
    "\"download.directory_upgrade\": True,\n",
    "\"safebrowsing_for_trusted_sources_enabled\": False,\n",
    "\"safebrowsing.enabled\": True,\n",
    "\"detach\": True,\n",
    "\"excludeSwitches\": [\"enable-automation\"],\n",
    "'useAutomationExtension': False,\n",
    "\"plugins.always_open_pdf_externally\": True\n",
    "\n",
    "})       "
   ]
  },
  {
   "cell_type": "code",
   "execution_count": null,
   "id": "90921658",
   "metadata": {
    "scrolled": true
   },
   "outputs": [],
   "source": [
    "driver = webdriver.Chrome(( driverloc ) , options=options)"
   ]
  },
  {
   "cell_type": "code",
   "execution_count": null,
   "id": "295f1671",
   "metadata": {},
   "outputs": [],
   "source": [
    "driver.get(pdf_url)\n",
    "\n",
    "# เมื่อก่อนผมใช้ เช็คใน dir ว่าโหลดเสร็จยังถึงปิด\n",
    "time.sleep(5)\n",
    "\n",
    "driver.quit()"
   ]
  },
  {
   "cell_type": "code",
   "execution_count": null,
   "id": "4c7512ce",
   "metadata": {},
   "outputs": [],
   "source": []
  }
 ],
 "metadata": {
  "kernelspec": {
   "display_name": "Python 3",
   "language": "python",
   "name": "python3"
  },
  "language_info": {
   "codemirror_mode": {
    "name": "ipython",
    "version": 3
   },
   "file_extension": ".py",
   "mimetype": "text/x-python",
   "name": "python",
   "nbconvert_exporter": "python",
   "pygments_lexer": "ipython3",
   "version": "3.8.8"
  }
 },
 "nbformat": 4,
 "nbformat_minor": 5
}
